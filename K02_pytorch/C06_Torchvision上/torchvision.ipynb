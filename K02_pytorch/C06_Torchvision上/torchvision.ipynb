{
 "cells": [
  {
   "cell_type": "code",
   "execution_count": null,
   "id": "initial_id",
   "metadata": {
    "collapsed": true
   },
   "outputs": [],
   "source": [
    "# 以MNIST为例\n",
    "import torchvision\n",
    "\n",
    "# torchvision: 是常用数据集 + 常见网络模型 + 常用图像处理方法。支持许多数据集\n",
    "# 以MNIST为例，第一次运行，本地生成该数据集的图片、标签、测试数据\n",
    "# PIL是torchvision的官方图像加载器\n",
    "mnist_dataset = torchvision.datasets.MNIST(\n",
    "    root='./data',\n",
    "    train=True,\n",
    "    transform=None,\n",
    "    target_transform=None,\n",
    "    download=True)\n",
    "# 数据预览：转换列表。为两个元组：一个是图像数据；一个是图像的标签\n",
    "mnist_dataset_list = list(mnist_dataset)\n",
    "# print(mnist_dataset_list)\n",
    "# (<PIL.Image.Image image mode=L size=28x28 at 0x1CDAE8F8D90>, 3)\n",
    "one_data = mnist_dataset_list[0][0]\n",
    "print(one_data)\n",
    "\n",
    "display(mnist_dataset_list[0][0])"
   ]
  },
  {
   "cell_type": "code",
   "execution_count": null,
   "outputs": [],
   "source": [],
   "metadata": {
    "collapsed": false
   },
   "id": "c84ded207f72878b"
  }
 ],
 "metadata": {
  "kernelspec": {
   "display_name": "Python 3",
   "language": "python",
   "name": "python3"
  },
  "language_info": {
   "codemirror_mode": {
    "name": "ipython",
    "version": 2
   },
   "file_extension": ".py",
   "mimetype": "text/x-python",
   "name": "python",
   "nbconvert_exporter": "python",
   "pygments_lexer": "ipython2",
   "version": "2.7.6"
  }
 },
 "nbformat": 4,
 "nbformat_minor": 5
}
